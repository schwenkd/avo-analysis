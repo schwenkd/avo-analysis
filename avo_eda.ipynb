{
 "cells": [
  {
   "cell_type": "markdown",
   "metadata": {},
   "source": [
    "****Initial EDA****\n",
    "\n",
    "***Notes***\n",
    "* Hass Avocado Board Data\n",
    "    * 2017 - 2020 CSVs:\n",
    "        * YYYY-market-region-hab-data.csv (\"4-week Period Reports\")\n",
    "            * ['Geography', 'Segment', 'Variety', 'Timeframe', 'Period',\n",
    "       'Current Year Week Ending', 'Units Prior Year', 'Units Current Year',\n",
    "       'Unit Variance', 'Dollars Prior Year', 'Dollars Current Year',\n",
    "       'Dollar Variance', 'ASP Prior Year', 'ASP Current Year',\n",
    "       'ASP Variance']\n",
    "        * YYYY-plu-total-hab-data.csv (\"Weekly Retail Volume & Price Reports\")\n",
    "            * ['Geography', 'Timeframe', 'Current Year Week Ending', 'Type',\n",
    "       'ASP Current Year', 'Total Bulk and Bags Units', '4046 Units',\n",
    "       '4225 Units', '4770 Units', 'TotalBagged Units', 'SmlBagged Units',\n",
    "       'LrgBagged Units', 'X-LrgBagged Units']\n",
    "        * YYYY-volume.csv (\"Volume Data 7 Projections, kg\")\n",
    "            * ['Week', 'Status', 'Total Volume', 'California', 'Chile', 'Mexico',\n",
    "       'Peru', 'Colombia']\n",
    "    * PDF Country Profiles and Market Reviews:\n",
    "        * California 2020, 2017\n",
    "        * Mexico 2019, 2014\n",
    "        * Peru 2019, 2018\n",
    "        * Chile 2018, 2014\n",
    "        * Spain 2018, 2014\n",
    "        * Europe 2018 Market Review\n",
    "        * World 2018 Market Review\n",
    "        * 2017: Australia, New Zealand\n",
    "        * 2016: Tanzania, South Africa, Morocco, Mexico Jalisco, Kenya, Brazil, Colombia\n",
    "    * Missing:\n",
    "        * Global Trade Report CSVs\n",
    "            * imports/exports by weight (kg) and quarter\n",
    "            * shows which countries exported to which\n",
    "        * Data for Regional Composite Reports\n",
    "            * retail dollar growth trends, hass vs total produce\n",
    "            * Sales by dollar and unit, average selling price\n",
    "* Kaggle HAB data (avo-volume-and-price-data.csv)\n",
    "    * ['Unnamed: 0', 'Date', 'AveragePrice', 'Total Volume', '4046', '4225',\n",
    "       '4770', 'Total Bags', 'Small Bags', 'Large Bags', 'XLarge Bags', 'type',\n",
    "       'year', 'region']\n",
    "* Google Trends\n",
    "* Mexico Tariffs"
   ]
  },
  {
   "cell_type": "code",
   "execution_count": 2,
   "metadata": {
    "jupyter": {
     "source_hidden": true
    }
   },
   "outputs": [],
   "source": [
    "%matplotlib inline\n",
    "\n",
    "import matplotlib.pyplot as plt\n",
    "import numpy as np\n",
    "import pandas as pd"
   ]
  },
  {
   "cell_type": "code",
   "execution_count": 2,
   "metadata": {},
   "outputs": [],
   "source": [
    "%matplotlib inline\n",
    "\n",
    "import matplotlib.pyplot as plt\n",
    "import numpy as np\n",
    "import pandas as pd\n",
    "import datetime"
   ]
  },
  {
   "cell_type": "code",
   "execution_count": 3,
   "metadata": {},
   "outputs": [],
   "source": [
    "#import Hass Avocado Board data\n",
    "\n",
    "kag_df = pd.read_csv(\"data/avo-volume-and-price-data.csv\")\n",
    "\n",
    "def create_df(fname, year_start, year_end):\n",
    "    dfs = []\n",
    "    for y in range(year_start, year_end+1):\n",
    "        dfs.append(pd.read_csv(f\"data/{y}-{fname}.csv\"))\n",
    "    return pd.concat(dfs)\n",
    "\n",
    "per_df = create_df('market-region-hab-data',2017,2020)\n",
    "wkly_rtl_df = create_df('plu-total-hab-data',2017,2020)\n",
    "vol_df = create_df('volume',2017,2020)"
   ]
  },
  {
   "cell_type": "code",
   "execution_count": 5,
   "metadata": {},
   "outputs": [
    {
     "ename": "KeyError",
     "evalue": "'Date'",
     "output_type": "error",
     "traceback": [
      "\u001b[0;31m---------------------------------------------------------------------------\u001b[0m",
      "\u001b[0;31mKeyError\u001b[0m                                  Traceback (most recent call last)",
      "\u001b[0;32m~/anaconda3/lib/python3.6/site-packages/pandas/core/indexes/base.py\u001b[0m in \u001b[0;36mget_loc\u001b[0;34m(self, key, method, tolerance)\u001b[0m\n\u001b[1;32m   2896\u001b[0m             \u001b[0;32mtry\u001b[0m\u001b[0;34m:\u001b[0m\u001b[0;34m\u001b[0m\u001b[0;34m\u001b[0m\u001b[0m\n\u001b[0;32m-> 2897\u001b[0;31m                 \u001b[0;32mreturn\u001b[0m \u001b[0mself\u001b[0m\u001b[0;34m.\u001b[0m\u001b[0m_engine\u001b[0m\u001b[0;34m.\u001b[0m\u001b[0mget_loc\u001b[0m\u001b[0;34m(\u001b[0m\u001b[0mkey\u001b[0m\u001b[0;34m)\u001b[0m\u001b[0;34m\u001b[0m\u001b[0;34m\u001b[0m\u001b[0m\n\u001b[0m\u001b[1;32m   2898\u001b[0m             \u001b[0;32mexcept\u001b[0m \u001b[0mKeyError\u001b[0m\u001b[0;34m:\u001b[0m\u001b[0;34m\u001b[0m\u001b[0;34m\u001b[0m\u001b[0m\n",
      "\u001b[0;32mpandas/_libs/index.pyx\u001b[0m in \u001b[0;36mpandas._libs.index.IndexEngine.get_loc\u001b[0;34m()\u001b[0m\n",
      "\u001b[0;32mpandas/_libs/index.pyx\u001b[0m in \u001b[0;36mpandas._libs.index.IndexEngine.get_loc\u001b[0;34m()\u001b[0m\n",
      "\u001b[0;32mpandas/_libs/hashtable_class_helper.pxi\u001b[0m in \u001b[0;36mpandas._libs.hashtable.PyObjectHashTable.get_item\u001b[0;34m()\u001b[0m\n",
      "\u001b[0;32mpandas/_libs/hashtable_class_helper.pxi\u001b[0m in \u001b[0;36mpandas._libs.hashtable.PyObjectHashTable.get_item\u001b[0;34m()\u001b[0m\n",
      "\u001b[0;31mKeyError\u001b[0m: 'Date'",
      "\nDuring handling of the above exception, another exception occurred:\n",
      "\u001b[0;31mKeyError\u001b[0m                                  Traceback (most recent call last)",
      "\u001b[0;32m<ipython-input-5-ce7a61b3cf69>\u001b[0m in \u001b[0;36m<module>\u001b[0;34m\u001b[0m\n\u001b[0;32m----> 1\u001b[0;31m \u001b[0mper_df\u001b[0m\u001b[0;34m[\u001b[0m\u001b[0;34m'Date'\u001b[0m\u001b[0;34m]\u001b[0m\u001b[0;34m\u001b[0m\u001b[0;34m\u001b[0m\u001b[0m\n\u001b[0m",
      "\u001b[0;32m~/anaconda3/lib/python3.6/site-packages/pandas/core/frame.py\u001b[0m in \u001b[0;36m__getitem__\u001b[0;34m(self, key)\u001b[0m\n\u001b[1;32m   2978\u001b[0m             \u001b[0;32mif\u001b[0m \u001b[0mself\u001b[0m\u001b[0;34m.\u001b[0m\u001b[0mcolumns\u001b[0m\u001b[0;34m.\u001b[0m\u001b[0mnlevels\u001b[0m \u001b[0;34m>\u001b[0m \u001b[0;36m1\u001b[0m\u001b[0;34m:\u001b[0m\u001b[0;34m\u001b[0m\u001b[0;34m\u001b[0m\u001b[0m\n\u001b[1;32m   2979\u001b[0m                 \u001b[0;32mreturn\u001b[0m \u001b[0mself\u001b[0m\u001b[0;34m.\u001b[0m\u001b[0m_getitem_multilevel\u001b[0m\u001b[0;34m(\u001b[0m\u001b[0mkey\u001b[0m\u001b[0;34m)\u001b[0m\u001b[0;34m\u001b[0m\u001b[0;34m\u001b[0m\u001b[0m\n\u001b[0;32m-> 2980\u001b[0;31m             \u001b[0mindexer\u001b[0m \u001b[0;34m=\u001b[0m \u001b[0mself\u001b[0m\u001b[0;34m.\u001b[0m\u001b[0mcolumns\u001b[0m\u001b[0;34m.\u001b[0m\u001b[0mget_loc\u001b[0m\u001b[0;34m(\u001b[0m\u001b[0mkey\u001b[0m\u001b[0;34m)\u001b[0m\u001b[0;34m\u001b[0m\u001b[0;34m\u001b[0m\u001b[0m\n\u001b[0m\u001b[1;32m   2981\u001b[0m             \u001b[0;32mif\u001b[0m \u001b[0mis_integer\u001b[0m\u001b[0;34m(\u001b[0m\u001b[0mindexer\u001b[0m\u001b[0;34m)\u001b[0m\u001b[0;34m:\u001b[0m\u001b[0;34m\u001b[0m\u001b[0;34m\u001b[0m\u001b[0m\n\u001b[1;32m   2982\u001b[0m                 \u001b[0mindexer\u001b[0m \u001b[0;34m=\u001b[0m \u001b[0;34m[\u001b[0m\u001b[0mindexer\u001b[0m\u001b[0;34m]\u001b[0m\u001b[0;34m\u001b[0m\u001b[0;34m\u001b[0m\u001b[0m\n",
      "\u001b[0;32m~/anaconda3/lib/python3.6/site-packages/pandas/core/indexes/base.py\u001b[0m in \u001b[0;36mget_loc\u001b[0;34m(self, key, method, tolerance)\u001b[0m\n\u001b[1;32m   2897\u001b[0m                 \u001b[0;32mreturn\u001b[0m \u001b[0mself\u001b[0m\u001b[0;34m.\u001b[0m\u001b[0m_engine\u001b[0m\u001b[0;34m.\u001b[0m\u001b[0mget_loc\u001b[0m\u001b[0;34m(\u001b[0m\u001b[0mkey\u001b[0m\u001b[0;34m)\u001b[0m\u001b[0;34m\u001b[0m\u001b[0;34m\u001b[0m\u001b[0m\n\u001b[1;32m   2898\u001b[0m             \u001b[0;32mexcept\u001b[0m \u001b[0mKeyError\u001b[0m\u001b[0;34m:\u001b[0m\u001b[0;34m\u001b[0m\u001b[0;34m\u001b[0m\u001b[0m\n\u001b[0;32m-> 2899\u001b[0;31m                 \u001b[0;32mreturn\u001b[0m \u001b[0mself\u001b[0m\u001b[0;34m.\u001b[0m\u001b[0m_engine\u001b[0m\u001b[0;34m.\u001b[0m\u001b[0mget_loc\u001b[0m\u001b[0;34m(\u001b[0m\u001b[0mself\u001b[0m\u001b[0;34m.\u001b[0m\u001b[0m_maybe_cast_indexer\u001b[0m\u001b[0;34m(\u001b[0m\u001b[0mkey\u001b[0m\u001b[0;34m)\u001b[0m\u001b[0;34m)\u001b[0m\u001b[0;34m\u001b[0m\u001b[0;34m\u001b[0m\u001b[0m\n\u001b[0m\u001b[1;32m   2900\u001b[0m         \u001b[0mindexer\u001b[0m \u001b[0;34m=\u001b[0m \u001b[0mself\u001b[0m\u001b[0;34m.\u001b[0m\u001b[0mget_indexer\u001b[0m\u001b[0;34m(\u001b[0m\u001b[0;34m[\u001b[0m\u001b[0mkey\u001b[0m\u001b[0;34m]\u001b[0m\u001b[0;34m,\u001b[0m \u001b[0mmethod\u001b[0m\u001b[0;34m=\u001b[0m\u001b[0mmethod\u001b[0m\u001b[0;34m,\u001b[0m \u001b[0mtolerance\u001b[0m\u001b[0;34m=\u001b[0m\u001b[0mtolerance\u001b[0m\u001b[0;34m)\u001b[0m\u001b[0;34m\u001b[0m\u001b[0;34m\u001b[0m\u001b[0m\n\u001b[1;32m   2901\u001b[0m         \u001b[0;32mif\u001b[0m \u001b[0mindexer\u001b[0m\u001b[0;34m.\u001b[0m\u001b[0mndim\u001b[0m \u001b[0;34m>\u001b[0m \u001b[0;36m1\u001b[0m \u001b[0;32mor\u001b[0m \u001b[0mindexer\u001b[0m\u001b[0;34m.\u001b[0m\u001b[0msize\u001b[0m \u001b[0;34m>\u001b[0m \u001b[0;36m1\u001b[0m\u001b[0;34m:\u001b[0m\u001b[0;34m\u001b[0m\u001b[0;34m\u001b[0m\u001b[0m\n",
      "\u001b[0;32mpandas/_libs/index.pyx\u001b[0m in \u001b[0;36mpandas._libs.index.IndexEngine.get_loc\u001b[0;34m()\u001b[0m\n",
      "\u001b[0;32mpandas/_libs/index.pyx\u001b[0m in \u001b[0;36mpandas._libs.index.IndexEngine.get_loc\u001b[0;34m()\u001b[0m\n",
      "\u001b[0;32mpandas/_libs/hashtable_class_helper.pxi\u001b[0m in \u001b[0;36mpandas._libs.hashtable.PyObjectHashTable.get_item\u001b[0;34m()\u001b[0m\n",
      "\u001b[0;32mpandas/_libs/hashtable_class_helper.pxi\u001b[0m in \u001b[0;36mpandas._libs.hashtable.PyObjectHashTable.get_item\u001b[0;34m()\u001b[0m\n",
      "\u001b[0;31mKeyError\u001b[0m: 'Date'"
     ]
    }
   ],
   "source": [
    "per_df['Date']"
   ]
  },
  {
   "cell_type": "code",
   "execution_count": 116,
   "metadata": {},
   "outputs": [
    {
     "name": "stdout",
     "output_type": "stream",
     "text": [
      "<class 'pandas.core.frame.DataFrame'>\n",
      "RangeIndex: 18249 entries, 0 to 18248\n",
      "Data columns (total 14 columns):\n",
      "Unnamed: 0      18249 non-null int64\n",
      "Date            18249 non-null object\n",
      "AveragePrice    18249 non-null float64\n",
      "Total Volume    18249 non-null float64\n",
      "4046            18249 non-null float64\n",
      "4225            18249 non-null float64\n",
      "4770            18249 non-null float64\n",
      "Total Bags      18249 non-null float64\n",
      "Small Bags      18249 non-null float64\n",
      "Large Bags      18249 non-null float64\n",
      "XLarge Bags     18249 non-null float64\n",
      "type            18249 non-null object\n",
      "year            18249 non-null int64\n",
      "region          18249 non-null object\n",
      "dtypes: float64(9), int64(2), object(3)\n",
      "memory usage: 1.9+ MB\n"
     ]
    }
   ],
   "source": [
    "kag_df.info()"
   ]
  },
  {
   "cell_type": "code",
   "execution_count": 114,
   "metadata": {},
   "outputs": [
    {
     "name": "stdout",
     "output_type": "stream",
     "text": [
      "<class 'pandas.core.frame.DataFrame'>\n",
      "Int64Index: 17388 entries, 0 to 863\n",
      "Data columns (total 13 columns):\n",
      "Geography                    17388 non-null object\n",
      "Timeframe                    17388 non-null object\n",
      "Current Year Week Ending     17388 non-null datetime64[ns]\n",
      "Type                         17388 non-null object\n",
      "ASP Current Year             17388 non-null float64\n",
      "Total Bulk and Bags Units    17388 non-null float64\n",
      "4046 Units                   17388 non-null float64\n",
      "4225 Units                   17388 non-null float64\n",
      "4770 Units                   17388 non-null float64\n",
      "TotalBagged Units            17388 non-null float64\n",
      "SmlBagged Units              17388 non-null float64\n",
      "LrgBagged Units              17388 non-null float64\n",
      "X-LrgBagged Units            17388 non-null float64\n",
      "dtypes: datetime64[ns](1), float64(9), object(3)\n",
      "memory usage: 2.5+ MB\n"
     ]
    }
   ],
   "source": [
    "wkly_rtl_df.info()"
   ]
  },
  {
   "cell_type": "code",
   "execution_count": 113,
   "metadata": {},
   "outputs": [],
   "source": [
    "wkly_rtl_df['Current Year Week Ending'] = pd.to_datetime(wkly_rtl_df['Current Year Week Ending'])"
   ]
  },
  {
   "cell_type": "code",
   "execution_count": 100,
   "metadata": {},
   "outputs": [
    {
     "name": "stdout",
     "output_type": "stream",
     "text": [
      "Index(['Week', 'Status', 'Total Volume', 'California', 'Chile', 'Mexico',\n",
      "       'Peru', 'Colombia'],\n",
      "      dtype='object')\n"
     ]
    }
   ],
   "source": [
    "print(vol_df.columns)"
   ]
  },
  {
   "cell_type": "code",
   "execution_count": 87,
   "metadata": {},
   "outputs": [
    {
     "data": {
      "text/plain": [
       "<matplotlib.axes._subplots.AxesSubplot at 0x1234aa278>"
      ]
     },
     "execution_count": 87,
     "metadata": {},
     "output_type": "execute_result"
    },
    {
     "data": {
      "image/png": "[encoded data removed]",
      "text/plain": [
       "<Figure size 432x288 with 1 Axes>"
      ]
     },
     "metadata": {
      "needs_background": "light"
     },
     "output_type": "display_data"
    }
   ],
   "source": [
    "#Check if ambiguously named 'ASP Current Year' column looks like a YTD average. The value does not converge over the course of each year, so the answer is no.\n",
    "\n",
    "wkly_rtl_df.loc[wkly_rtl_df['Geography']=='Detroit',['Current Year Week Ending', 'ASP Current Year']].plot('Current Year Week Ending')"
   ]
  },
  {
   "cell_type": "code",
   "execution_count": 20,
   "metadata": {},
   "outputs": [
    {
     "data": {
      "text/html": [
       "<div>\n",
       "<style scoped>\n",
       "    .dataframe tbody tr th:only-of-type {\n",
       "        vertical-align: middle;\n",
       "    }\n",
       "\n",
       "    .dataframe tbody tr th {\n",
       "        vertical-align: top;\n",
       "    }\n",
       "\n",
       "    .dataframe thead th {\n",
       "        text-align: right;\n",
       "    }\n",
       "</style>\n",
       "<table border=\"1\" class=\"dataframe\">\n",
       "  <thead>\n",
       "    <tr style=\"text-align: right;\">\n",
       "      <th></th>\n",
       "      <th>Geography</th>\n",
       "      <th>Segment</th>\n",
       "      <th>Variety</th>\n",
       "      <th>Timeframe</th>\n",
       "      <th>Period</th>\n",
       "      <th>Current Year Week Ending</th>\n",
       "      <th>Units Prior Year</th>\n",
       "      <th>Units Current Year</th>\n",
       "      <th>Unit Variance</th>\n",
       "      <th>Dollars Prior Year</th>\n",
       "      <th>Dollars Current Year</th>\n",
       "      <th>Dollar Variance</th>\n",
       "      <th>ASP Prior Year</th>\n",
       "      <th>ASP Current Year</th>\n",
       "      <th>ASP Variance</th>\n",
       "    </tr>\n",
       "  </thead>\n",
       "  <tbody>\n",
       "    <tr>\n",
       "      <td>0</td>\n",
       "      <td>Albany</td>\n",
       "      <td>Avocados</td>\n",
       "      <td>Hass</td>\n",
       "      <td>Last 04 Wks</td>\n",
       "      <td>1</td>\n",
       "      <td>2017-01-29 00:00:00</td>\n",
       "      <td>407688.25</td>\n",
       "      <td>414997.59</td>\n",
       "      <td>0.017929</td>\n",
       "      <td>474096.20</td>\n",
       "      <td>526144.34</td>\n",
       "      <td>0.109784</td>\n",
       "      <td>1.162889</td>\n",
       "      <td>1.267825</td>\n",
       "      <td>0.090237</td>\n",
       "    </tr>\n",
       "    <tr>\n",
       "      <td>1</td>\n",
       "      <td>Albany</td>\n",
       "      <td>Avocados</td>\n",
       "      <td>Hass</td>\n",
       "      <td>Last 04 Wks</td>\n",
       "      <td>2</td>\n",
       "      <td>2017-02-26 00:00:00</td>\n",
       "      <td>464174.45</td>\n",
       "      <td>474327.41</td>\n",
       "      <td>0.021873</td>\n",
       "      <td>484448.36</td>\n",
       "      <td>643283.21</td>\n",
       "      <td>0.327867</td>\n",
       "      <td>1.043677</td>\n",
       "      <td>1.356201</td>\n",
       "      <td>0.299445</td>\n",
       "    </tr>\n",
       "    <tr>\n",
       "      <td>2</td>\n",
       "      <td>Albany</td>\n",
       "      <td>Avocados</td>\n",
       "      <td>Hass</td>\n",
       "      <td>Last 04 Wks</td>\n",
       "      <td>3</td>\n",
       "      <td>2017-03-26 00:00:00</td>\n",
       "      <td>412013.41</td>\n",
       "      <td>428197.68</td>\n",
       "      <td>0.039281</td>\n",
       "      <td>492765.05</td>\n",
       "      <td>536982.97</td>\n",
       "      <td>0.089734</td>\n",
       "      <td>1.195993</td>\n",
       "      <td>1.254054</td>\n",
       "      <td>0.048546</td>\n",
       "    </tr>\n",
       "    <tr>\n",
       "      <td>3</td>\n",
       "      <td>Albany</td>\n",
       "      <td>Avocados</td>\n",
       "      <td>Hass</td>\n",
       "      <td>Last 04 Wks</td>\n",
       "      <td>4</td>\n",
       "      <td>2017-04-23 00:00:00</td>\n",
       "      <td>427319.20</td>\n",
       "      <td>388241.62</td>\n",
       "      <td>-0.091448</td>\n",
       "      <td>496838.57</td>\n",
       "      <td>557034.31</td>\n",
       "      <td>0.121158</td>\n",
       "      <td>1.162687</td>\n",
       "      <td>1.434762</td>\n",
       "      <td>0.234005</td>\n",
       "    </tr>\n",
       "    <tr>\n",
       "      <td>4</td>\n",
       "      <td>Albany</td>\n",
       "      <td>Avocados</td>\n",
       "      <td>Hass</td>\n",
       "      <td>Last 04 Wks</td>\n",
       "      <td>5</td>\n",
       "      <td>2017-05-21 00:00:00</td>\n",
       "      <td>502563.73</td>\n",
       "      <td>473973.05</td>\n",
       "      <td>-0.056890</td>\n",
       "      <td>527758.58</td>\n",
       "      <td>587504.68</td>\n",
       "      <td>0.113207</td>\n",
       "      <td>1.050133</td>\n",
       "      <td>1.239532</td>\n",
       "      <td>0.180357</td>\n",
       "    </tr>\n",
       "    <tr>\n",
       "      <td>...</td>\n",
       "      <td>...</td>\n",
       "      <td>...</td>\n",
       "      <td>...</td>\n",
       "      <td>...</td>\n",
       "      <td>...</td>\n",
       "      <td>...</td>\n",
       "      <td>...</td>\n",
       "      <td>...</td>\n",
       "      <td>...</td>\n",
       "      <td>...</td>\n",
       "      <td>...</td>\n",
       "      <td>...</td>\n",
       "      <td>...</td>\n",
       "      <td>...</td>\n",
       "      <td>...</td>\n",
       "    </tr>\n",
       "    <tr>\n",
       "      <td>103</td>\n",
       "      <td>Spokane</td>\n",
       "      <td>Avocados</td>\n",
       "      <td>Hass</td>\n",
       "      <td>Last 04 Wks</td>\n",
       "      <td>2</td>\n",
       "      <td>2020-02-23 00:00:00</td>\n",
       "      <td>480182.53</td>\n",
       "      <td>503555.11</td>\n",
       "      <td>0.048674</td>\n",
       "      <td>542228.29</td>\n",
       "      <td>571008.47</td>\n",
       "      <td>0.053078</td>\n",
       "      <td>1.129213</td>\n",
       "      <td>1.133954</td>\n",
       "      <td>0.004199</td>\n",
       "    </tr>\n",
       "    <tr>\n",
       "      <td>104</td>\n",
       "      <td>St. Louis</td>\n",
       "      <td>Avocados</td>\n",
       "      <td>Hass</td>\n",
       "      <td>Last 04 Wks</td>\n",
       "      <td>2</td>\n",
       "      <td>2020-02-23 00:00:00</td>\n",
       "      <td>930887.41</td>\n",
       "      <td>916271.91</td>\n",
       "      <td>-0.015701</td>\n",
       "      <td>972327.90</td>\n",
       "      <td>989709.00</td>\n",
       "      <td>0.017876</td>\n",
       "      <td>1.044517</td>\n",
       "      <td>1.080148</td>\n",
       "      <td>0.034112</td>\n",
       "    </tr>\n",
       "    <tr>\n",
       "      <td>105</td>\n",
       "      <td>Syracuse</td>\n",
       "      <td>Avocados</td>\n",
       "      <td>Hass</td>\n",
       "      <td>Last 04 Wks</td>\n",
       "      <td>2</td>\n",
       "      <td>2020-02-23 00:00:00</td>\n",
       "      <td>412062.30</td>\n",
       "      <td>422557.18</td>\n",
       "      <td>0.025469</td>\n",
       "      <td>455166.40</td>\n",
       "      <td>460464.52</td>\n",
       "      <td>0.011640</td>\n",
       "      <td>1.104606</td>\n",
       "      <td>1.089709</td>\n",
       "      <td>-0.013486</td>\n",
       "    </tr>\n",
       "    <tr>\n",
       "      <td>106</td>\n",
       "      <td>Tampa</td>\n",
       "      <td>Avocados</td>\n",
       "      <td>Hass</td>\n",
       "      <td>Last 04 Wks</td>\n",
       "      <td>2</td>\n",
       "      <td>2020-02-23 00:00:00</td>\n",
       "      <td>2943022.21</td>\n",
       "      <td>2878899.18</td>\n",
       "      <td>-0.021788</td>\n",
       "      <td>2749727.35</td>\n",
       "      <td>2678733.13</td>\n",
       "      <td>-0.025819</td>\n",
       "      <td>0.934321</td>\n",
       "      <td>0.930471</td>\n",
       "      <td>-0.004120</td>\n",
       "    </tr>\n",
       "    <tr>\n",
       "      <td>107</td>\n",
       "      <td>West Tex/New Mexico</td>\n",
       "      <td>Avocados</td>\n",
       "      <td>Hass</td>\n",
       "      <td>Last 04 Wks</td>\n",
       "      <td>2</td>\n",
       "      <td>2020-02-23 00:00:00</td>\n",
       "      <td>4392784.51</td>\n",
       "      <td>4455687.15</td>\n",
       "      <td>0.014320</td>\n",
       "      <td>3335448.58</td>\n",
       "      <td>3654488.01</td>\n",
       "      <td>0.095651</td>\n",
       "      <td>0.759302</td>\n",
       "      <td>0.820185</td>\n",
       "      <td>0.080183</td>\n",
       "    </tr>\n",
       "  </tbody>\n",
       "</table>\n",
       "<p>2268 rows × 15 columns</p>\n",
       "</div>"
      ],
      "text/plain": [
       "               Geography   Segment Variety    Timeframe  Period  \\\n",
       "0                 Albany  Avocados    Hass  Last 04 Wks       1   \n",
       "1                 Albany  Avocados    Hass  Last 04 Wks       2   \n",
       "2                 Albany  Avocados    Hass  Last 04 Wks       3   \n",
       "3                 Albany  Avocados    Hass  Last 04 Wks       4   \n",
       "4                 Albany  Avocados    Hass  Last 04 Wks       5   \n",
       "..                   ...       ...     ...          ...     ...   \n",
       "103              Spokane  Avocados    Hass  Last 04 Wks       2   \n",
       "104            St. Louis  Avocados    Hass  Last 04 Wks       2   \n",
       "105             Syracuse  Avocados    Hass  Last 04 Wks       2   \n",
       "106                Tampa  Avocados    Hass  Last 04 Wks       2   \n",
       "107  West Tex/New Mexico  Avocados    Hass  Last 04 Wks       2   \n",
       "\n",
       "    Current Year Week Ending  Units Prior Year  Units Current Year  \\\n",
       "0        2017-01-29 00:00:00         407688.25           414997.59   \n",
       "1        2017-02-26 00:00:00         464174.45           474327.41   \n",
       "2        2017-03-26 00:00:00         412013.41           428197.68   \n",
       "3        2017-04-23 00:00:00         427319.20           388241.62   \n",
       "4        2017-05-21 00:00:00         502563.73           473973.05   \n",
       "..                       ...               ...                 ...   \n",
       "103      2020-02-23 00:00:00         480182.53           503555.11   \n",
       "104      2020-02-23 00:00:00         930887.41           916271.91   \n",
       "105      2020-02-23 00:00:00         412062.30           422557.18   \n",
       "106      2020-02-23 00:00:00        2943022.21          2878899.18   \n",
       "107      2020-02-23 00:00:00        4392784.51          4455687.15   \n",
       "\n",
       "     Unit Variance  Dollars Prior Year  Dollars Current Year  Dollar Variance  \\\n",
       "0         0.017929           474096.20             526144.34         0.109784   \n",
       "1         0.021873           484448.36             643283.21         0.327867   \n",
       "2         0.039281           492765.05             536982.97         0.089734   \n",
       "3        -0.091448           496838.57             557034.31         0.121158   \n",
       "4        -0.056890           527758.58             587504.68         0.113207   \n",
       "..             ...                 ...                   ...              ...   \n",
       "103       0.048674           542228.29             571008.47         0.053078   \n",
       "104      -0.015701           972327.90             989709.00         0.017876   \n",
       "105       0.025469           455166.40             460464.52         0.011640   \n",
       "106      -0.021788          2749727.35            2678733.13        -0.025819   \n",
       "107       0.014320          3335448.58            3654488.01         0.095651   \n",
       "\n",
       "     ASP Prior Year  ASP Current Year  ASP Variance  \n",
       "0          1.162889          1.267825      0.090237  \n",
       "1          1.043677          1.356201      0.299445  \n",
       "2          1.195993          1.254054      0.048546  \n",
       "3          1.162687          1.434762      0.234005  \n",
       "4          1.050133          1.239532      0.180357  \n",
       "..              ...               ...           ...  \n",
       "103        1.129213          1.133954      0.004199  \n",
       "104        1.044517          1.080148      0.034112  \n",
       "105        1.104606          1.089709     -0.013486  \n",
       "106        0.934321          0.930471     -0.004120  \n",
       "107        0.759302          0.820185      0.080183  \n",
       "\n",
       "[2268 rows x 15 columns]"
      ]
     },
     "execution_count": 20,
     "metadata": {},
     "output_type": "execute_result"
    }
   ],
   "source": [
    "per_df"
   ]
  },
  {
   "cell_type": "code",
   "execution_count": 49,
   "metadata": {},
   "outputs": [
    {
     "data": {
      "text/html": [
       "<div>\n",
       "<style scoped>\n",
       "    .dataframe tbody tr th:only-of-type {\n",
       "        vertical-align: middle;\n",
       "    }\n",
       "\n",
       "    .dataframe tbody tr th {\n",
       "        vertical-align: top;\n",
       "    }\n",
       "\n",
       "    .dataframe thead th {\n",
       "        text-align: right;\n",
       "    }\n",
       "</style>\n",
       "<table border=\"1\" class=\"dataframe\">\n",
       "  <thead>\n",
       "    <tr style=\"text-align: right;\">\n",
       "      <th></th>\n",
       "      <th>Week</th>\n",
       "      <th>Status</th>\n",
       "      <th>Total Volume</th>\n",
       "      <th>California</th>\n",
       "      <th>Chile</th>\n",
       "      <th>Mexico</th>\n",
       "      <th>Peru</th>\n",
       "      <th>Colombia</th>\n",
       "    </tr>\n",
       "  </thead>\n",
       "  <tbody>\n",
       "    <tr>\n",
       "      <td>count</td>\n",
       "      <td>195</td>\n",
       "      <td>195</td>\n",
       "      <td>195</td>\n",
       "      <td>195</td>\n",
       "      <td>195</td>\n",
       "      <td>195</td>\n",
       "      <td>195</td>\n",
       "      <td>195</td>\n",
       "    </tr>\n",
       "    <tr>\n",
       "      <td>unique</td>\n",
       "      <td>195</td>\n",
       "      <td>2</td>\n",
       "      <td>195</td>\n",
       "      <td>143</td>\n",
       "      <td>99</td>\n",
       "      <td>187</td>\n",
       "      <td>92</td>\n",
       "      <td>3</td>\n",
       "    </tr>\n",
       "    <tr>\n",
       "      <td>top</td>\n",
       "      <td>May 28, 2017</td>\n",
       "      <td>Actual</td>\n",
       "      <td>40,739,925</td>\n",
       "      <td>0</td>\n",
       "      <td>0</td>\n",
       "      <td>0</td>\n",
       "      <td>0</td>\n",
       "      <td>0</td>\n",
       "    </tr>\n",
       "    <tr>\n",
       "      <td>freq</td>\n",
       "      <td>1</td>\n",
       "      <td>170</td>\n",
       "      <td>1</td>\n",
       "      <td>53</td>\n",
       "      <td>94</td>\n",
       "      <td>9</td>\n",
       "      <td>100</td>\n",
       "      <td>105</td>\n",
       "    </tr>\n",
       "  </tbody>\n",
       "</table>\n",
       "</div>"
      ],
      "text/plain": [
       "                Week  Status Total Volume California Chile Mexico Peru  \\\n",
       "count            195     195          195        195   195    195  195   \n",
       "unique           195       2          195        143    99    187   92   \n",
       "top     May 28, 2017  Actual   40,739,925          0     0      0    0   \n",
       "freq               1     170            1         53    94      9  100   \n",
       "\n",
       "        Colombia  \n",
       "count        195  \n",
       "unique         3  \n",
       "top            0  \n",
       "freq         105  "
      ]
     },
     "execution_count": 49,
     "metadata": {},
     "output_type": "execute_result"
    }
   ],
   "source": [
    "vol_df.describe(percentiles = [.25])"
   ]
  },
  {
   "cell_type": "code",
   "execution_count": 6,
   "metadata": {},
   "outputs": [
    {
     "data": {
      "text/plain": [
       "<bound method NDFrame.sample of             Week      Status Total Volume California      Chile      Mexico  \\\n",
       "0    Jan 1, 2017      Actual   35,100,521     49,737  1,023,459  34,027,325   \n",
       "1    Jan 8, 2017      Actual   40,920,289    157,060  1,526,467  39,236,762   \n",
       "2   Jan 15, 2017      Actual   53,723,606    215,612  1,468,592  52,039,402   \n",
       "3   Jan 22, 2017      Actual   55,606,793    827,113  1,445,898  53,333,782   \n",
       "4   Jan 29, 2017      Actual   44,287,021  1,027,998  1,111,063  42,147,960   \n",
       "..           ...         ...          ...        ...        ...         ...   \n",
       "33  Aug 23, 2020  Projection    3,229,005          0          0           0   \n",
       "34  Aug 30, 2020  Projection    2,779,146          0          0           0   \n",
       "35   Sep 6, 2020  Projection    1,440,752          0          0           0   \n",
       "36  Sep 13, 2020  Projection      774,135          0          0           0   \n",
       "37  Sep 20, 2020  Projection      279,549          0          0           0   \n",
       "\n",
       "         Peru Colombia  \n",
       "0           0        0  \n",
       "1           0        0  \n",
       "2           0        0  \n",
       "3           0        0  \n",
       "4           0        0  \n",
       "..        ...      ...  \n",
       "33  3,229,004        0  \n",
       "34  2,779,146        0  \n",
       "35  1,440,752        0  \n",
       "36    774,135        0  \n",
       "37    279,548        0  \n",
       "\n",
       "[195 rows x 8 columns]>"
      ]
     },
     "execution_count": 6,
     "metadata": {},
     "output_type": "execute_result"
    }
   ],
   "source": [
    "vol_df.sample"
   ]
  },
  {
   "cell_type": "code",
   "execution_count": 17,
   "metadata": {},
   "outputs": [
    {
     "name": "stdout",
     "output_type": "stream",
     "text": [
      "<class 'pandas.core.frame.DataFrame'>\n",
      "RangeIndex: 18249 entries, 0 to 18248\n",
      "Data columns (total 14 columns):\n",
      "Unnamed: 0      18249 non-null int64\n",
      "Date            18249 non-null datetime64[ns]\n",
      "AveragePrice    18249 non-null float64\n",
      "Total Volume    18249 non-null float64\n",
      "4046            18249 non-null float64\n",
      "4225            18249 non-null float64\n",
      "4770            18249 non-null float64\n",
      "Total Bags      18249 non-null float64\n",
      "Small Bags      18249 non-null float64\n",
      "Large Bags      18249 non-null float64\n",
      "XLarge Bags     18249 non-null float64\n",
      "type            18249 non-null object\n",
      "year            18249 non-null int64\n",
      "region          18249 non-null object\n",
      "dtypes: datetime64[ns](1), float64(9), int64(2), object(2)\n",
      "memory usage: 1.9+ MB\n"
     ]
    }
   ],
   "source": [
    "kag_df['Date'] = pd.to_datetime(kag_df['Date'])\n",
    "kag_df.info()"
   ]
  },
  {
   "cell_type": "code",
   "execution_count": 29,
   "metadata": {},
   "outputs": [
    {
     "data": {
      "image/png": "[encoded data removed]",
      "text/plain": [
       "<Figure size 432x288 with 1 Axes>"
      ]
     },
     "metadata": {
      "needs_background": "light"
     },
     "output_type": "display_data"
    }
   ],
   "source": [
    "fig, ax = plt.subplots()"
   ]
  }
 ],
 "metadata": {
  "kernelspec": {
   "display_name": "Python 3",
   "language": "python",
   "name": "python3"
  },
  "language_info": {
   "codemirror_mode": {
    "name": "ipython",
    "version": 3
   },
   "file_extension": ".py",
   "mimetype": "text/x-python",
   "name": "python",
   "nbconvert_exporter": "python",
   "pygments_lexer": "ipython3",
   "version": "3.6.9"
  },
  "widgets": {
   "application/vnd.jupyter.widget-state+json": {
    "state": {},
    "version_major": 2,
    "version_minor": 0
   }
  }
 },
 "nbformat": 4,
 "nbformat_minor": 4
}
