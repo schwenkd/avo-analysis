{
 "cells": [
  {
   "cell_type": "markdown",
   "metadata": {},
   "source": [
    "****Initial EDA****\n",
    "\n",
    "***Notes***\n",
    "\n",
    "       \n",
    "* Hass Avocado Board Data\n",
    "    * Kaggle HAB data\n",
    "        * avo-volume-and-price-data.csv)\n",
    "            * ['Unnamed: 0', 'Date', 'AveragePrice', 'Total Volume', '4046', '4225',\n",
    "           '4770', 'Total Bags', 'Small Bags', 'Large Bags', 'XLarge Bags', 'type',\n",
    "           'year', 'region']\n",
    "    * 2017 - 2020 CSVs:\n",
    "        * YYYY-plu-total-hab-data.csv (\"Weekly Retail Volume & Price Reports\")\n",
    "            * ['Geography', 'Timeframe', 'Current Year Week Ending', 'Type',\n",
    "       'ASP Current Year', 'Total Bulk and Bags Units', '4046 Units',\n",
    "       '4225 Units', '4770 Units', 'TotalBagged Units', 'SmlBagged Units',\n",
    "       'LrgBagged Units', 'X-LrgBagged Units']\n",
    "            * Week Ending is a Sunday\n",
    "        * YYYY-market-region-hab-data.csv (\"4-week Period Reports\")\n",
    "            * ['Geography', 'Segment', 'Variety', 'Timeframe', 'Period',\n",
    "       'Current Year Week Ending', 'Units Prior Year', 'Units Current Year',\n",
    "       'Unit Variance', 'Dollars Prior Year', 'Dollars Current Year',\n",
    "       'Dollar Variance', 'ASP Prior Year', 'ASP Current Year',\n",
    "       'ASP Variance']\n",
    "        * YYYY-volume.csv (\"Volume Data 7 Projections, kg\")\n",
    "            * ['Week', 'Status', 'Total Volume', 'California', 'Chile', 'Mexico',\n",
    "       'Peru', 'Colombia']\n",
    "            * 'Week' is week ending Sunday (although data starts out as Monday- investigate)\n",
    "            \n",
    "   * PLU 4046 = small\n",
    "   * PLU 4225 = large\n",
    "   * PLU 4770 = jumbo\n",
    "   * ASP = Average Sale Price\n",
    "   * Date wrong for weekly retail 2017 week 1\n",
    "   * Unique Index should be Date, Region, Type\n",
    "   * Grouped regions: 'TotalUS', 'California', 'West', 'Plains', 'SouthCentral', 'Southeast', 'Midsouth', 'GreatLakes', 'Northeast'\n",
    "       \n",
    "    * PDF Country Profiles and Market Reviews:\n",
    "        * California 2020, 2017\n",
    "        * Mexico 2019, 2014\n",
    "        * Peru 2019, 2018\n",
    "        * Chile 2018, 2014\n",
    "        * Spain 2018, 2014\n",
    "        * Europe 2018 Market Review\n",
    "        * World 2018 Market Review\n",
    "        * 2017: Australia, New Zealand\n",
    "        * 2016: Tanzania, South Africa, Morocco, Mexico Jalisco, Kenya, Brazil, Colombia\n",
    "    * Missing:\n",
    "        * Global Trade Report CSVs\n",
    "            * imports/exports by weight (kg) and quarter\n",
    "            * shows which countries exported to which\n",
    "        * Data for Regional Composite Reports\n",
    "            * retail dollar growth trends, hass vs total produce\n",
    "            * Sales by dollar and unit, average selling price\n",
    "    * \n",
    "\n",
    "* Google Trends\n",
    "* Mexico Tariffs"
   ]
  }
 ],
 "metadata": {
  "kernelspec": {
   "display_name": "Python 3",
   "language": "python",
   "name": "python3"
  },
  "language_info": {
   "codemirror_mode": {
    "name": "ipython",
    "version": 3
   },
   "file_extension": ".py",
   "mimetype": "text/x-python",
   "name": "python",
   "nbconvert_exporter": "python",
   "pygments_lexer": "ipython3",
   "version": "3.6.9"
  },
  "widgets": {
   "application/vnd.jupyter.widget-state+json": {
    "state": {},
    "version_major": 2,
    "version_minor": 0
   }
  }
 },
 "nbformat": 4,
 "nbformat_minor": 4
}
